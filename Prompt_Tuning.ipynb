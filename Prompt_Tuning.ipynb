{
  "cells": [
    {
      "cell_type": "code",
      "source": [
        "#Upload instructions:\n",
        "#Make a data directory and upload all content from ../data in repo\n",
        "#Make a utils directory and upload all content from utils in repo"
      ],
      "metadata": {
        "id": "kqYLFy2p7_Me"
      },
      "id": "kqYLFy2p7_Me",
      "execution_count": 64,
      "outputs": []
    },
    {
      "cell_type": "code",
      "source": [
        "!pip install transformers"
      ],
      "metadata": {
        "colab": {
          "base_uri": "https://localhost:8080/"
        },
        "id": "UXyfeEHgUDOQ",
        "outputId": "56d0a969-75f1-4d26-8e60-ffbd75219b77"
      },
      "id": "UXyfeEHgUDOQ",
      "execution_count": 65,
      "outputs": [
        {
          "output_type": "stream",
          "name": "stdout",
          "text": [
            "Looking in indexes: https://pypi.org/simple, https://us-python.pkg.dev/colab-wheels/public/simple/\n",
            "Requirement already satisfied: transformers in /usr/local/lib/python3.7/dist-packages (4.24.0)\n",
            "Requirement already satisfied: numpy>=1.17 in /usr/local/lib/python3.7/dist-packages (from transformers) (1.21.6)\n",
            "Requirement already satisfied: tokenizers!=0.11.3,<0.14,>=0.11.1 in /usr/local/lib/python3.7/dist-packages (from transformers) (0.13.2)\n",
            "Requirement already satisfied: huggingface-hub<1.0,>=0.10.0 in /usr/local/lib/python3.7/dist-packages (from transformers) (0.11.0)\n",
            "Requirement already satisfied: importlib-metadata in /usr/local/lib/python3.7/dist-packages (from transformers) (4.13.0)\n",
            "Requirement already satisfied: regex!=2019.12.17 in /usr/local/lib/python3.7/dist-packages (from transformers) (2022.6.2)\n",
            "Requirement already satisfied: filelock in /usr/local/lib/python3.7/dist-packages (from transformers) (3.8.0)\n",
            "Requirement already satisfied: tqdm>=4.27 in /usr/local/lib/python3.7/dist-packages (from transformers) (4.64.1)\n",
            "Requirement already satisfied: pyyaml>=5.1 in /usr/local/lib/python3.7/dist-packages (from transformers) (6.0)\n",
            "Requirement already satisfied: requests in /usr/local/lib/python3.7/dist-packages (from transformers) (2.23.0)\n",
            "Requirement already satisfied: packaging>=20.0 in /usr/local/lib/python3.7/dist-packages (from transformers) (21.3)\n",
            "Requirement already satisfied: typing-extensions>=3.7.4.3 in /usr/local/lib/python3.7/dist-packages (from huggingface-hub<1.0,>=0.10.0->transformers) (4.1.1)\n",
            "Requirement already satisfied: pyparsing!=3.0.5,>=2.0.2 in /usr/local/lib/python3.7/dist-packages (from packaging>=20.0->transformers) (3.0.9)\n",
            "Requirement already satisfied: zipp>=0.5 in /usr/local/lib/python3.7/dist-packages (from importlib-metadata->transformers) (3.10.0)\n",
            "Requirement already satisfied: urllib3!=1.25.0,!=1.25.1,<1.26,>=1.21.1 in /usr/local/lib/python3.7/dist-packages (from requests->transformers) (1.24.3)\n",
            "Requirement already satisfied: idna<3,>=2.5 in /usr/local/lib/python3.7/dist-packages (from requests->transformers) (2.10)\n",
            "Requirement already satisfied: certifi>=2017.4.17 in /usr/local/lib/python3.7/dist-packages (from requests->transformers) (2022.9.24)\n",
            "Requirement already satisfied: chardet<4,>=3.0.2 in /usr/local/lib/python3.7/dist-packages (from requests->transformers) (3.0.4)\n"
          ]
        }
      ]
    },
    {
      "cell_type": "code",
      "execution_count": 66,
      "id": "f84727b1",
      "metadata": {
        "id": "f84727b1"
      },
      "outputs": [],
      "source": [
        "import json\n",
        "from utils import make_fold_inds\n",
        "from utils import soft_embedding\n",
        "from google.colab import files\n",
        "import torch\n",
        "import torch.nn as nn"
      ]
    },
    {
      "cell_type": "code",
      "source": [
        "uploaded = files.upload()"
      ],
      "metadata": {
        "colab": {
          "base_uri": "https://localhost:8080/",
          "height": 39
        },
        "id": "DygAQ7GsM2Rn",
        "outputId": "254bc363-2f64-4c1b-8a88-b2c408ad87d1"
      },
      "id": "DygAQ7GsM2Rn",
      "execution_count": null,
      "outputs": [
        {
          "output_type": "display_data",
          "data": {
            "text/plain": [
              "<IPython.core.display.HTML object>"
            ],
            "text/html": [
              "\n",
              "     <input type=\"file\" id=\"files-6b167851-3f97-4d72-931f-37c48998aacd\" name=\"files[]\" multiple disabled\n",
              "        style=\"border:none\" />\n",
              "     <output id=\"result-6b167851-3f97-4d72-931f-37c48998aacd\">\n",
              "      Upload widget is only available when the cell has been executed in the\n",
              "      current browser session. Please rerun this cell to enable.\n",
              "      </output>\n",
              "      <script>// Copyright 2017 Google LLC\n",
              "//\n",
              "// Licensed under the Apache License, Version 2.0 (the \"License\");\n",
              "// you may not use this file except in compliance with the License.\n",
              "// You may obtain a copy of the License at\n",
              "//\n",
              "//      http://www.apache.org/licenses/LICENSE-2.0\n",
              "//\n",
              "// Unless required by applicable law or agreed to in writing, software\n",
              "// distributed under the License is distributed on an \"AS IS\" BASIS,\n",
              "// WITHOUT WARRANTIES OR CONDITIONS OF ANY KIND, either express or implied.\n",
              "// See the License for the specific language governing permissions and\n",
              "// limitations under the License.\n",
              "\n",
              "/**\n",
              " * @fileoverview Helpers for google.colab Python module.\n",
              " */\n",
              "(function(scope) {\n",
              "function span(text, styleAttributes = {}) {\n",
              "  const element = document.createElement('span');\n",
              "  element.textContent = text;\n",
              "  for (const key of Object.keys(styleAttributes)) {\n",
              "    element.style[key] = styleAttributes[key];\n",
              "  }\n",
              "  return element;\n",
              "}\n",
              "\n",
              "// Max number of bytes which will be uploaded at a time.\n",
              "const MAX_PAYLOAD_SIZE = 100 * 1024;\n",
              "\n",
              "function _uploadFiles(inputId, outputId) {\n",
              "  const steps = uploadFilesStep(inputId, outputId);\n",
              "  const outputElement = document.getElementById(outputId);\n",
              "  // Cache steps on the outputElement to make it available for the next call\n",
              "  // to uploadFilesContinue from Python.\n",
              "  outputElement.steps = steps;\n",
              "\n",
              "  return _uploadFilesContinue(outputId);\n",
              "}\n",
              "\n",
              "// This is roughly an async generator (not supported in the browser yet),\n",
              "// where there are multiple asynchronous steps and the Python side is going\n",
              "// to poll for completion of each step.\n",
              "// This uses a Promise to block the python side on completion of each step,\n",
              "// then passes the result of the previous step as the input to the next step.\n",
              "function _uploadFilesContinue(outputId) {\n",
              "  const outputElement = document.getElementById(outputId);\n",
              "  const steps = outputElement.steps;\n",
              "\n",
              "  const next = steps.next(outputElement.lastPromiseValue);\n",
              "  return Promise.resolve(next.value.promise).then((value) => {\n",
              "    // Cache the last promise value to make it available to the next\n",
              "    // step of the generator.\n",
              "    outputElement.lastPromiseValue = value;\n",
              "    return next.value.response;\n",
              "  });\n",
              "}\n",
              "\n",
              "/**\n",
              " * Generator function which is called between each async step of the upload\n",
              " * process.\n",
              " * @param {string} inputId Element ID of the input file picker element.\n",
              " * @param {string} outputId Element ID of the output display.\n",
              " * @return {!Iterable<!Object>} Iterable of next steps.\n",
              " */\n",
              "function* uploadFilesStep(inputId, outputId) {\n",
              "  const inputElement = document.getElementById(inputId);\n",
              "  inputElement.disabled = false;\n",
              "\n",
              "  const outputElement = document.getElementById(outputId);\n",
              "  outputElement.innerHTML = '';\n",
              "\n",
              "  const pickedPromise = new Promise((resolve) => {\n",
              "    inputElement.addEventListener('change', (e) => {\n",
              "      resolve(e.target.files);\n",
              "    });\n",
              "  });\n",
              "\n",
              "  const cancel = document.createElement('button');\n",
              "  inputElement.parentElement.appendChild(cancel);\n",
              "  cancel.textContent = 'Cancel upload';\n",
              "  const cancelPromise = new Promise((resolve) => {\n",
              "    cancel.onclick = () => {\n",
              "      resolve(null);\n",
              "    };\n",
              "  });\n",
              "\n",
              "  // Wait for the user to pick the files.\n",
              "  const files = yield {\n",
              "    promise: Promise.race([pickedPromise, cancelPromise]),\n",
              "    response: {\n",
              "      action: 'starting',\n",
              "    }\n",
              "  };\n",
              "\n",
              "  cancel.remove();\n",
              "\n",
              "  // Disable the input element since further picks are not allowed.\n",
              "  inputElement.disabled = true;\n",
              "\n",
              "  if (!files) {\n",
              "    return {\n",
              "      response: {\n",
              "        action: 'complete',\n",
              "      }\n",
              "    };\n",
              "  }\n",
              "\n",
              "  for (const file of files) {\n",
              "    const li = document.createElement('li');\n",
              "    li.append(span(file.name, {fontWeight: 'bold'}));\n",
              "    li.append(span(\n",
              "        `(${file.type || 'n/a'}) - ${file.size} bytes, ` +\n",
              "        `last modified: ${\n",
              "            file.lastModifiedDate ? file.lastModifiedDate.toLocaleDateString() :\n",
              "                                    'n/a'} - `));\n",
              "    const percent = span('0% done');\n",
              "    li.appendChild(percent);\n",
              "\n",
              "    outputElement.appendChild(li);\n",
              "\n",
              "    const fileDataPromise = new Promise((resolve) => {\n",
              "      const reader = new FileReader();\n",
              "      reader.onload = (e) => {\n",
              "        resolve(e.target.result);\n",
              "      };\n",
              "      reader.readAsArrayBuffer(file);\n",
              "    });\n",
              "    // Wait for the data to be ready.\n",
              "    let fileData = yield {\n",
              "      promise: fileDataPromise,\n",
              "      response: {\n",
              "        action: 'continue',\n",
              "      }\n",
              "    };\n",
              "\n",
              "    // Use a chunked sending to avoid message size limits. See b/62115660.\n",
              "    let position = 0;\n",
              "    do {\n",
              "      const length = Math.min(fileData.byteLength - position, MAX_PAYLOAD_SIZE);\n",
              "      const chunk = new Uint8Array(fileData, position, length);\n",
              "      position += length;\n",
              "\n",
              "      const base64 = btoa(String.fromCharCode.apply(null, chunk));\n",
              "      yield {\n",
              "        response: {\n",
              "          action: 'append',\n",
              "          file: file.name,\n",
              "          data: base64,\n",
              "        },\n",
              "      };\n",
              "\n",
              "      let percentDone = fileData.byteLength === 0 ?\n",
              "          100 :\n",
              "          Math.round((position / fileData.byteLength) * 100);\n",
              "      percent.textContent = `${percentDone}% done`;\n",
              "\n",
              "    } while (position < fileData.byteLength);\n",
              "  }\n",
              "\n",
              "  // All done.\n",
              "  yield {\n",
              "    response: {\n",
              "      action: 'complete',\n",
              "    }\n",
              "  };\n",
              "}\n",
              "\n",
              "scope.google = scope.google || {};\n",
              "scope.google.colab = scope.google.colab || {};\n",
              "scope.google.colab._files = {\n",
              "  _uploadFiles,\n",
              "  _uploadFilesContinue,\n",
              "};\n",
              "})(self);\n",
              "</script> "
            ]
          },
          "metadata": {}
        }
      ]
    },
    {
      "cell_type": "code",
      "source": [
        "#read experiment settings\n",
        "\n",
        "#experiment config directory\n",
        "experiment_config_path = \"utils/experiment_settings.json\"\n",
        "\n",
        "with open(experiment_config_path) as f:\n",
        "        exp_conf = json.load(f)\n",
        "\n",
        "#K is number of folds\n",
        "K = exp_conf[\"K\"]\n",
        "#path to file with fold indicies\n",
        "folds_path = exp_conf[\"folds_path\"]\n",
        "#path to data \n",
        "data_path = exp_conf[\"data_path\"]"
      ],
      "metadata": {
        "id": "bNH0LTUz4vb_"
      },
      "id": "bNH0LTUz4vb_",
      "execution_count": null,
      "outputs": []
    },
    {
      "cell_type": "code",
      "source": [
        "#write fold indicies to folds_path\n",
        "make_fold_inds.make_fold_inds(K = K,write_path=folds_path, data_path=data_path)"
      ],
      "metadata": {
        "id": "WXfj_YYC603-"
      },
      "id": "WXfj_YYC603-",
      "execution_count": null,
      "outputs": []
    },
    {
      "cell_type": "code",
      "source": [
        "#set up prompt tuning\n",
        "#%%%%%%%%%%%%%%%%%%%%%%%%%%%%%%%%%%%%%%%%%%%%%"
      ],
      "metadata": {
        "id": "yZNdZORQQVnJ"
      },
      "id": "yZNdZORQQVnJ",
      "execution_count": null,
      "outputs": []
    },
    {
      "cell_type": "code",
      "source": [
        "#ANTON: To do - set up prompt tuning from config not hardcoded\n",
        "#read prompt tuning settings\n",
        "\n",
        "#prompt tuning config directory\n",
        "#prompt_tuning_config_path = \"utils/prompt_tuning_settings.json\"\n",
        "\n",
        "#load config\n",
        "#with open(prompt_tuning_config_path) as f:\n",
        "#       prompt_conf = json.load(f)\n",
        "\n",
        "#name of LM (e.g. \"gpt2\")\n",
        "#LM_name = prompt_conf[\"LM_name\"]\n",
        "#values for n_tokens (i.e. number of prompt tokens) to sweep during tuning\n",
        "#n_tokens = prompt_conf[\"n_tokens\"]\n"
      ],
      "metadata": {
        "id": "6F_w8Cl6F6dt"
      },
      "id": "6F_w8Cl6F6dt",
      "execution_count": null,
      "outputs": []
    },
    {
      "cell_type": "code",
      "source": [
        "from transformers import GPT2LMHeadModel, GPT2TokenizerFast"
      ],
      "metadata": {
        "id": "xsKim_MzY3Q7"
      },
      "id": "xsKim_MzY3Q7",
      "execution_count": null,
      "outputs": []
    },
    {
      "cell_type": "code",
      "source": [
        "#modified from https://github.com/kipgparker/soft-prompt-tuning/blob/main/example.ipynb\n",
        "n_prompts = 3\n",
        "initialize_from_vocab = True\n",
        "\n",
        "tokenizer = GPT2TokenizerFast.from_pretrained(\"gpt2\")\n",
        "model = GPT2LMHeadModel.from_pretrained('gpt2')\n",
        "\n",
        "#append learnable embeddings to initial LM embeddings (learnable embeddings can be accessed by: model.transformer.wte.learned_embedding)\n",
        "s_wte = soft_embedding.SoftEmbedding(model.get_input_embeddings(), \n",
        "                      n_prompts=n_prompts, \n",
        "                      initialize_from_vocab=initialize_from_vocab)\n",
        "\n",
        "model.set_input_embeddings(s_wte)"
      ],
      "metadata": {
        "id": "dypISZS-UCqu"
      },
      "id": "dypISZS-UCqu",
      "execution_count": null,
      "outputs": []
    },
    {
      "cell_type": "code",
      "source": [
        "#TO DO: \n",
        "#Make inputs:\n",
        "#Input ids: tensor of 500 x max_seq_length, made up concatenation of n_prompts prompt ids (iset to any input id) + tokenized(query) + tokenized(correct option) + pad tokens\n",
        "#Pad attention mask with ones for all tokens other than padding tokens\n",
        "#Target_ids: mask all but outputs (don't think I need to mask padded tokens, but should check by tryin masking (via -100) with and without padded tokens)  \n",
        "\n",
        "#put these three inputs together in a dictionary: {key:value} = {\"labels\" : torch.Size([500,max_length]), 'input_ids': torch.Size([500,max_length]), 'attention_mask': torch.Size([500,max_length])}\n",
        "\n",
        "#Initilize optimizer: e.g. \n",
        "#from transformers import Adam\n",
        "#optimizer = Adam([model.transformer.wte.learned_embedding])\n",
        "\n",
        "#put model on cuda\n",
        "\n",
        "#train:\n",
        "\n",
        "#for epoch in range(num_epochs):\n",
        "#        outputs = model(**batch)\n",
        "#        loss = outputs.loss\n",
        "#        loss.backward()\n",
        "#        lr_scheduler.step()\n",
        "#        optimizer.zero_grad()\n",
        "#        progress_bar\n",
        "\n",
        "\n",
        "#make predictions and get accuracy"
      ],
      "metadata": {
        "id": "bWFaSzKWV3ig"
      },
      "id": "bWFaSzKWV3ig",
      "execution_count": 1,
      "outputs": []
    },
    {
      "cell_type": "code",
      "source": [
        "\n",
        "#Try with a single sequence - might not need attention mask\n",
        "\n",
        "#outputs = model(**batch)\n",
        "#print(out)\n"
      ],
      "metadata": {
        "id": "Ef5Ow_EqY1nS"
      },
      "id": "Ef5Ow_EqY1nS",
      "execution_count": null,
      "outputs": []
    },
    {
      "cell_type": "code",
      "source": [
        "#EXAMPLE:\n",
        "inputs = tokenizer(\"May the force be\", return_tensors=\"pt\")\n",
        "\n",
        "# need to pad attention_mask and input_ids to be full seq_len + n_learned_tokens\n",
        "# even though it does not matter what you pad input_ids with, it's just to make HF happy\n",
        "\n",
        "#ANTON: gpt2 vocabulary size is 50257, which is where 50256 below comes from\n",
        "inputs['input_ids'] = torch.cat([torch.full((1,n_prompts), 50256), inputs['input_ids']], 1)\n",
        "inputs['attention_mask'] = torch.cat([torch.full((1,n_prompts), 1), inputs['attention_mask']], 1)\n",
        "\n",
        "outputs = model(**inputs)"
      ],
      "metadata": {
        "id": "YRNZ_nXKchpr"
      },
      "id": "YRNZ_nXKchpr",
      "execution_count": 67,
      "outputs": []
    },
    {
      "cell_type": "code",
      "source": [
        "inputs"
      ],
      "metadata": {
        "colab": {
          "base_uri": "https://localhost:8080/"
        },
        "id": "lUmOTyX3jsdj",
        "outputId": "a39bf0b5-3fd0-46bb-e560-25bae1d66703"
      },
      "id": "lUmOTyX3jsdj",
      "execution_count": 68,
      "outputs": [
        {
          "output_type": "execute_result",
          "data": {
            "text/plain": [
              "{'input_ids': tensor([[50256, 50256, 50256,  6747,   262,  2700,   307]]), 'attention_mask': tensor([[1, 1, 1, 1, 1, 1, 1]])}"
            ]
          },
          "metadata": {},
          "execution_count": 68
        }
      ]
    },
    {
      "cell_type": "code",
      "source": [
        "#try:\n",
        "#input: tokenized (soft prompt plus query plus option)\n",
        "#o_input: option (tokenized option)\n"
      ],
      "metadata": {
        "id": "2tZ1-81Dfmh9"
      },
      "id": "2tZ1-81Dfmh9",
      "execution_count": null,
      "outputs": []
    },
    {
      "cell_type": "code",
      "source": [
        "#Zero Shot code:\n",
        "  def __init__(self, model_name=\"facebook/opt-1.3b\", device='cuda'):\n",
        "    self.model = OPTForCausalLM.from_pretrained(model_name).to(device)\n",
        "    self.tokenizer = AutoTokenizer.from_pretrained(model_name)\n",
        "    #self.tokenizer = GPT2Tokenizer.from_pretrained(\"gpt2\")\n",
        "    #self.model = GPT2LMHeadModel.from_pretrained(\"gpt2\").to(device)\n",
        "    self.device = device\n",
        "\n",
        "  def get_answer(self, q, options):\n",
        "    scores = []\n",
        "    for o in options:\n",
        "      #tokenized query plus option\n",
        "      input = self.tokenizer(q+' '+o, return_tensors=\"pt\").input_ids.to(self.device)\n",
        "      #tokenized option\n",
        "      o_input = self.tokenizer(o, return_tensors=\"pt\").to(self.device)\n",
        "      #length of option\n",
        "      o_len = o_input.input_ids.size(1)\n",
        "      #set input ids as target ids\n",
        "      target_ids = input.clone()\n",
        "      #-100 is a mask, to ignore these tokens in the loss: see https://huggingface.co/docs/transformers/model_doc/opt under OPTForCausalLM\n",
        "      target_ids[:, :-o_len] = -100\n",
        "\n",
        "      with torch.no_grad():\n",
        "          outputs = self.model(input, labels=target_ids)\n",
        "          neg_log_likelihood = outputs[0] \n",
        "\n",
        "      #Will try outputs.loss.backward()\n",
        "\n",
        "      scores.append((-1*neg_log_likelihood.cpu()))\n",
        "    scores, options = shuffle(scores, options, random_state=0)\n",
        "    args = np.argsort(scores)\n",
        "    return options[args[-1]]\n",
        "\n",
        "\n",
        "#will need to pad inputs to maximum length for a batch\n",
        "#The padding token ID can be found in tokenizer.pad_token_id.\n",
        "#when padding attention mask, use 1 for tokens to attend to, 0 ow\n",
        "#see https://huggingface.co/course/chapter3/4?fw=tf"
      ],
      "metadata": {
        "id": "sk1iXb4Qi1ij"
      },
      "id": "sk1iXb4Qi1ij",
      "execution_count": null,
      "outputs": []
    },
    {
      "cell_type": "code",
      "source": [
        "#Mahdi's fine tuning code\n",
        "input_ids = tokenizer([\"question: where is capital of France? answer: question: where is capital of France? answer: question: where is capital of France? answer: \"*10], return_tensors=\"pt\").input_ids.cuda()\n",
        "labels = tokenizer([\"the capital of France is Paris the capital of France is Paris the capital of France is Paris the capital of France is Paris\"*10], return_tensors=\"pt\").input_ids.cuda()\n",
        "optimizer.zero_grad(set_to_none=True)\n",
        "outputs = model(input_ids=input_ids, labels=labels)\n",
        "loss = outputs.loss\n",
        "print(loss)\n",
        "loss.backward()\n",
        "optimizer.step()\n",
        "print(time.time()-t0)\n",
        "torch.cuda.empty_cache()"
      ],
      "metadata": {
        "id": "d2wBqiRLfafh"
      },
      "id": "d2wBqiRLfafh",
      "execution_count": null,
      "outputs": []
    }
  ],
  "metadata": {
    "kernelspec": {
      "display_name": "Python 3 (ipykernel)",
      "language": "python",
      "name": "python3"
    },
    "language_info": {
      "codemirror_mode": {
        "name": "ipython",
        "version": 3
      },
      "file_extension": ".py",
      "mimetype": "text/x-python",
      "name": "python",
      "nbconvert_exporter": "python",
      "pygments_lexer": "ipython3",
      "version": "3.9.7"
    },
    "colab": {
      "provenance": []
    }
  },
  "nbformat": 4,
  "nbformat_minor": 5
}