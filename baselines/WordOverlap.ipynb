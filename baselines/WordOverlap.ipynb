{
  "cells": [
    {
      "cell_type": "code",
      "execution_count": null,
      "metadata": {
        "colab": {
          "base_uri": "https://localhost:8080/"
        },
        "id": "U0TZ-BdDSu1l",
        "outputId": "bd94d786-38ba-4610-bfd1-837b3c22b01b"
      },
      "outputs": [],
      "source": [
        "import nltk\n",
        "from nltk.corpus import stopwords\n",
        "from nltk.corpus import stopwords\n",
        "from nltk.tokenize import word_tokenize\n",
        "from nltk.stem import PorterStemmer\n",
        "import pandas as pd\n",
        "import numpy as np\n",
        "import string\n",
        "from sklearn.utils import shuffle"
      ]
    },
    {
      "cell_type": "code",
      "execution_count": null,
      "metadata": {},
      "outputs": [],
      "source": [
        "# nltk downloads\n",
        "nltk.download('stopwords')\n",
        "nltk.download('punkt')"
      ]
    },
    {
      "cell_type": "code",
      "execution_count": null,
      "metadata": {
        "id": "P_r6SHVnJBuM"
      },
      "outputs": [],
      "source": [
        "# Load data from csv files, change to json later\n",
        "\n",
        "K_path = \"TFIDF-K.csv\"\n",
        "K_df = pd.read_csv(K_path)\n",
        "Y_path = \"TFIDF-Y.csv\"\n",
        "Y_df = pd.read_csv(Y_path)\n",
        "H_path = \"TFIDF-H.csv\"\n",
        "H_df = pd.read_csv(H_path)\n",
        "N_path = \"TFIDF-N.csv\" \n",
        "N_df = pd.read_csv(N_path)\n",
        "Z_path = \"TFIDF-Z.csv\"\n",
        "Z_df = pd.read_csv(Z_path)"
      ]
    },
    {
      "cell_type": "markdown",
      "metadata": {
        "id": "11xWVrPaUasf"
      },
      "source": [
        "Stemming and stopword removal functions\n"
      ]
    },
    {
      "cell_type": "code",
      "execution_count": null,
      "metadata": {
        "id": "Z1ncnGjXKQEw"
      },
      "outputs": [],
      "source": [
        "stop = set(stopwords.words('english') + list(string.punctuation))\n",
        "porter = PorterStemmer()\n",
        "\n",
        "def remove_stopwords(sentence):\n",
        "  tokens = [i for i in word_tokenize(sentence.lower()) if i not in stop]\n",
        "  filtered = ' '.join([str(w) for w in tokens])\n",
        "  return filtered\n",
        "\n",
        "def stem(sentence):\n",
        "    tokens = word_tokenize(sentence)\n",
        "    stemmed_tokens = [porter.stem(w) for w in tokens]\n",
        "    stemmed = ' '.join(stemmed_tokens)\n",
        "    return stemmed"
      ]
    },
    {
      "cell_type": "markdown",
      "metadata": {
        "id": "gzdMTJAUVSaV"
      },
      "source": [
        "Choose correct option based on highest word overlap between query and description"
      ]
    },
    {
      "cell_type": "code",
      "execution_count": null,
      "metadata": {
        "id": "Qcazk_n1Llza"
      },
      "outputs": [],
      "source": [
        "# Helper function to find number of overlapping words between two sentences\n",
        "def calc_overlap(s1, s2):\n",
        "  s1_list = s1.split(' ')\n",
        "  s2_list = s2.split(' ')\n",
        "  return len(list(set(s1_list)&set(s2_list)))\n",
        "\n",
        "# General function to determine correct answer based on word overlap after pre-processing\n",
        "def word_overlap(df, name):\n",
        "  results = []\n",
        "  correct = 0\n",
        "  total = len(df)\n",
        "  for i in range(len(df)):\n",
        "    try:\n",
        "      options = [df.loc[i, \"Option 1\"], df.loc[i, \"Option 2\"], df.loc[i, \"Option 3\"], df.loc[i, \"Option 4\"], df.loc[i, \"Option 5\"]]\n",
        "      query = df.loc[i, \"Query\"]\n",
        "      answer = df.loc[i, \"Correct Answer\"]\n",
        "    except:\n",
        "      continue\n",
        "    \n",
        "    options_str = [str(i) for i in options]\n",
        "    cleaned_query = stem(remove_stopwords(str(query)))\n",
        "    \n",
        "    overlap = []\n",
        "    for option in options_str:\n",
        "      cleaned_option = stem(remove_stopwords(option))\n",
        "      num_overlap = calc_overlap(cleaned_query, cleaned_option)\n",
        "      overlap.append(num_overlap)\n",
        "\n",
        "    overlap, options = shuffle(overlap, options, random_state=0)\n",
        "    # Ties in argmax are broken by picking first element\n",
        "    ind = np.argmax(overlap) \n",
        "    result = 0\n",
        "    if (options[ind]) == answer:\n",
        "      correct += 1\n",
        "      result = 1\n",
        "    results.append([result, \"Query: \" + str(df.loc[i, \"Query\"]), \"Recommended: \" + str(options[ind])])\n",
        "\n",
        "  print(\"Results for {}:\".format(name))\n",
        "  print(\"Total correct answers: {} out of {}\".format(correct, total))\n",
        "  print(results)"
      ]
    },
    {
      "cell_type": "code",
      "execution_count": null,
      "metadata": {
        "colab": {
          "base_uri": "https://localhost:8080/"
        },
        "id": "CdKd7064LpPz",
        "outputId": "297475a1-bffa-49de-ba27-a3f54e72db77"
      },
      "outputs": [],
      "source": [
        "word_overlap(K_df, \"K\")\n",
        "word_overlap(Y_df, \"Y\")\n",
        "word_overlap(H_df, \"H\")\n",
        "word_overlap(N_df, \"N\")\n",
        "word_overlap(Z_df, \"Z\")"
      ]
    }
  ],
  "metadata": {
    "colab": {
      "collapsed_sections": [],
      "name": "WordOverlap.ipynb",
      "provenance": []
    },
    "kernelspec": {
      "display_name": "Python 3",
      "name": "python3"
    },
    "language_info": {
      "name": "python"
    }
  },
  "nbformat": 4,
  "nbformat_minor": 0
}
