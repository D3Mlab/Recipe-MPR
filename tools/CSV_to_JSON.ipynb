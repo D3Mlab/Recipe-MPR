{
  "cells": [
    {
      "cell_type": "code",
      "execution_count": 1,
      "metadata": {},
      "outputs": [],
      "source": [
        "import pandas as pd\n",
        "import json"
      ]
    },
    {
      "cell_type": "code",
      "execution_count": 4,
      "metadata": {
        "colab": {
          "base_uri": "https://localhost:8080/"
        },
        "id": "EsvGDHU3zIWa",
        "outputId": "31d0e277-8964-4b91-9534-7bcd4f0c944e"
      },
      "outputs": [],
      "source": [
        "def map_query_type(df, row, query_type):\n",
        "\n",
        "  # General (0) vs. specific (1)\n",
        "  temp = df.loc[row,\"General (0) vs. Specific (1)\"]\n",
        "  query_type[\"Specific\"] = int(temp)\n",
        "\n",
        "  # Objective (0) vs. subjective (1)\n",
        "  temp = df.loc[row,\"Objective (0) vs. Subjective (1)\"]\n",
        "  query_type[\"Subjective\"] = int(temp)\n",
        "\n",
        "  # Indirect (0) vs. direct (1)\n",
        "  temp = df.loc[row,\"Indirect (0) vs. Direct (1)\"]\n",
        "  query_type[\"Indirect\"] = 1 - int(temp)\n",
        "\n",
        "  # Simple (0) vs. compound (1) logic (AND/OR)\n",
        "  temp = df.loc[row,\"Simple (0) vs. Compound (AND/OR) Logic (1)\"]\n",
        "  query_type[\"Compound\"] = int(temp)\n",
        "\n",
        "  # Negation (1)\n",
        "  query_type[\"Negated\"] = int(df.loc[row,\"Negation (1)\"])\n",
        "\n",
        "  # Analogical (1)\n",
        "  query_type[\"Analogical\"] = int(df.loc[row,\"Analogical (1)\"])\n",
        "\n",
        "  # Temporal (1)\n",
        "  query_type[\"Temporal\"] = int(df.loc[row,\"Temporal (1)\"])\n",
        "\n",
        "def map_options_explanations(df, row, options, answer, incorrectness_explanations, correctness_explanation):\n",
        "  temp = df.loc[row, \"Correct Answer\"]\n",
        "  id_description = temp.split(\": \")\n",
        "\n",
        "  # correctness explanation dictionary\n",
        "  correctness_explanation = json.loads(df.loc[row,\"term_matching\"])\n",
        "\n",
        "  # correct recipe id as an option mapped to description\n",
        "  options[id_description[0]] = df.loc[row,\"correct_description\"]\n",
        "\n",
        "  for i in range (1, 5):\n",
        "    option_string = \"Option \" + str(i)\n",
        "    description_string = \"description_\" + str(i)\n",
        "    explanation_string = \"explanation_\" + str(i)\n",
        "\n",
        "    temp = df.loc[row, option_string]\n",
        "    id_description = temp.split(\": \")\n",
        "    \n",
        "    # option recipe id mapped to description\n",
        "    options[id_description[0]] = df.loc[row, description_string]\n",
        "    \n",
        "    # option recipe id mapped to explanation\n",
        "    incorrectness_explanations[id_description[0]] = df.loc[row, explanation_string]\n",
        "\n",
        "def convert_data(input_file, output_file):\n",
        "  df = pd.read_csv(input_file)\n",
        "\n",
        "  # list of dictionaries \n",
        "  data = []\n",
        "\n",
        "  for row in range(len(df)):  \n",
        "    item = {}  \n",
        "    query_type = {}\n",
        "    options = {}\n",
        "    incorrectness_explanations = {}\n",
        "    correctness_explanation = {}\n",
        "\n",
        "    # formatting and extracting properties from csv\n",
        "    query = df.loc[row, \"Query\"]\n",
        "    correctness_explanation = json.loads(df.loc[row,\"term_matching\"])\n",
        "    answer = df.loc[row, \"Correct Answer\"].split(\": \")[0]\n",
        "\n",
        "    map_query_type(df, row, query_type)\n",
        "    map_options_explanations(df, row, options, answer, incorrectness_explanations, correctness_explanation)\n",
        "\n",
        "    # mapping properties into item dictionary\n",
        "    item[\"query\"] = query\n",
        "    item[\"query_type\"] = query_type\n",
        "    item[\"options\"] = options\n",
        "    item[\"answer\"] = answer\n",
        "    item[\"incorrectness_explanations\"] = incorrectness_explanations\n",
        "    item[\"correctness_explanation\"] = correctness_explanation\n",
        "\n",
        "    data.append(item)\n",
        "    \n",
        "  # converting dictionary to json using function from above\n",
        "  with open(output_file, \"w\") as f:\n",
        "    f.write(json.dumps(data, sort_keys=False, indent=4, separators=(',', ': '))) "
      ]
    },
    {
      "cell_type": "markdown",
      "metadata": {},
      "source": [
        "Change input and output file paths below, naming the output file \"[first_initial].json\""
      ]
    },
    {
      "cell_type": "code",
      "execution_count": null,
      "metadata": {},
      "outputs": [],
      "source": [
        "input_file = \"h.csv\"\n",
        "output_file = \"h.json\"\n",
        "\n",
        "convert_data(input_file, output_file)"
      ]
    }
  ],
  "metadata": {
    "colab": {
      "name": "CSV_to_JSON.ipynb",
      "provenance": []
    },
    "kernelspec": {
      "display_name": "Python 3.7.3 ('base')",
      "language": "python",
      "name": "python3"
    },
    "language_info": {
      "codemirror_mode": {
        "name": "ipython",
        "version": 3
      },
      "file_extension": ".py",
      "mimetype": "text/x-python",
      "name": "python",
      "nbconvert_exporter": "python",
      "pygments_lexer": "ipython3",
      "version": "3.7.3"
    },
    "vscode": {
      "interpreter": {
        "hash": "16a4e7ece9e04ef6782fa5b68100d2dbb77b79a687737e3689cfa4e040872a6d"
      }
    }
  },
  "nbformat": 4,
  "nbformat_minor": 0
}
