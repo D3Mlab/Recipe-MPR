{
  "cells": [
    {
      "cell_type": "code",
      "execution_count": 1,
      "metadata": {},
      "outputs": [],
      "source": [
        "import json\n",
        "import jsonschema\n",
        "from jsonschema import validate"
      ]
    },
    {
      "cell_type": "code",
      "execution_count": 19,
      "metadata": {
        "colab": {
          "base_uri": "https://localhost:8080/"
        },
        "id": "EsvGDHU3zIWa",
        "outputId": "31d0e277-8964-4b91-9534-7bcd4f0c944e"
      },
      "outputs": [],
      "source": [
        "def validate_json(json_file):\n",
        "  with open(\"../data/foodkg.schema.json\") as schema_file:\n",
        "    schema = json.load(schema_file)\n",
        "  \n",
        "  with open(json_file) as f:\n",
        "    json_data = json.load(f)\n",
        "\n",
        "  try:\n",
        "    validate(instance=json_data, schema=schema)\n",
        "  except jsonschema.exceptions.ValidationError as err:\n",
        "    print(\"Validation error: Invalid json data\")\n",
        "    print(err)\n",
        "    return False\n",
        "\n",
        "  print(\"Json data is valid against schema\")\n",
        "  return True"
      ]
    },
    {
      "cell_type": "markdown",
      "metadata": {},
      "source": [
        "Change json file path accordingly"
      ]
    },
    {
      "cell_type": "code",
      "execution_count": null,
      "metadata": {},
      "outputs": [],
      "source": [
        "json_file = \"../data/z.json\"\n",
        "\n",
        "validate_json(json_file)"
      ]
    }
  ],
  "metadata": {
    "colab": {
      "name": "CSV_to_JSON.ipynb",
      "provenance": []
    },
    "kernelspec": {
      "display_name": "Python 3.7.3 ('base')",
      "language": "python",
      "name": "python3"
    },
    "language_info": {
      "codemirror_mode": {
        "name": "ipython",
        "version": 3
      },
      "file_extension": ".py",
      "mimetype": "text/x-python",
      "name": "python",
      "nbconvert_exporter": "python",
      "pygments_lexer": "ipython3",
      "version": "3.7.3"
    },
    "vscode": {
      "interpreter": {
        "hash": "16a4e7ece9e04ef6782fa5b68100d2dbb77b79a687737e3689cfa4e040872a6d"
      }
    }
  },
  "nbformat": 4,
  "nbformat_minor": 0
}
